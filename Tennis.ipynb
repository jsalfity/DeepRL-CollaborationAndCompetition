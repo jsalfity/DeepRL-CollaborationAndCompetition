{
 "cells": [
  {
   "cell_type": "markdown",
   "metadata": {},
   "source": [
    "# Collaboration and Competition\n",
    "\n",
    "---\n",
    "\n",
    "You are welcome to use this coding environment to train your agent for the project.  Follow the instructions below to get started!\n",
    "\n",
    "### 1. Start the Environment\n",
    "\n",
    "Run the next code cell to install a few packages.  This line will take a few minutes to run!"
   ]
  },
  {
   "cell_type": "code",
   "execution_count": 20,
   "metadata": {},
   "outputs": [],
   "source": [
    "!pip -q install ./python"
   ]
  },
  {
   "cell_type": "markdown",
   "metadata": {},
   "source": [
    "The environment is already saved in the Workspace and can be accessed at the file path provided below. "
   ]
  },
  {
   "cell_type": "code",
   "execution_count": null,
   "metadata": {},
   "outputs": [],
   "source": [
    "from unityagents import UnityEnvironment\n",
    "import numpy as np\n",
    "\n",
    "env = UnityEnvironment(file_name=\"/data/Tennis_Linux_NoVis/Tennis\")"
   ]
  },
  {
   "cell_type": "markdown",
   "metadata": {},
   "source": [
    "Environments contain **_brains_** which are responsible for deciding the actions of their associated agents. Here we check for the first brain available, and set it as the default brain we will be controlling from Python."
   ]
  },
  {
   "cell_type": "code",
   "execution_count": null,
   "metadata": {},
   "outputs": [],
   "source": [
    "# get the default brain\n",
    "brain_name = env.brain_names[0]\n",
    "brain = env.brains[brain_name]"
   ]
  },
  {
   "cell_type": "markdown",
   "metadata": {},
   "source": [
    "### 2. Examine the State and Action Spaces\n",
    "\n",
    "Run the code cell below to print some information about the environment."
   ]
  },
  {
   "cell_type": "code",
   "execution_count": null,
   "metadata": {},
   "outputs": [],
   "source": [
    "# reset the environment\n",
    "env_info = env.reset(train_mode=True)[brain_name]\n",
    "\n",
    "# number of agents \n",
    "num_agents = len(env_info.agents)\n",
    "print('Number of agents:', num_agents)\n",
    "\n",
    "# size of each action\n",
    "action_size = brain.vector_action_space_size\n",
    "print('Size of each action:', action_size)\n",
    "\n",
    "# examine the state space \n",
    "states = env_info.vector_observations\n",
    "state_size = states.shape[1]\n",
    "print('There are {} agents. Each observes a state with length: {}'.format(states.shape[0], state_size))\n",
    "print('The state for the first agent looks like:', states[0])"
   ]
  },
  {
   "cell_type": "markdown",
   "metadata": {},
   "source": [
    "### 3. Take Random Actions in the Environment\n",
    "\n",
    "In the next code cell, you will learn how to use the Python API to control the agent and receive feedback from the environment.\n",
    "\n",
    "Note that **in this coding environment, you will not be able to watch the agents while they are training**, and you should set `train_mode=True` to restart the environment."
   ]
  },
  {
   "cell_type": "code",
   "execution_count": null,
   "metadata": {},
   "outputs": [],
   "source": [
    "for i in range(5):                                         # play game for 5 episodes\n",
    "    env_info = env.reset(train_mode=False)[brain_name]     # reset the environment    \n",
    "    states = env_info.vector_observations                  # get the current state (for each agent)\n",
    "    scores = np.zeros(num_agents)                          # initialize the score (for each agent)\n",
    "    while True:\n",
    "        actions = np.random.randn(num_agents, action_size) # select an action (for each agent)\n",
    "        actions = np.clip(actions, -1, 1)                  # all actions between -1 and 1\n",
    "        env_info = env.step(actions)[brain_name]           # send all actions to tne environment\n",
    "        next_states = env_info.vector_observations         # get next state (for each agent)\n",
    "        rewards = env_info.rewards                         # get reward (for each agent)\n",
    "        dones = env_info.local_done                        # see if episode finished\n",
    "        scores += env_info.rewards                         # update the score (for each agent)\n",
    "        states = next_states                               # roll over states to next time step\n",
    "        if np.any(dones):                                  # exit loop if episode finished\n",
    "            break\n",
    "    print('Total score (averaged over agents) this episode: {}'.format(np.mean(scores)))"
   ]
  },
  {
   "cell_type": "markdown",
   "metadata": {},
   "source": [
    "When finished, you can close the environment."
   ]
  },
  {
   "cell_type": "code",
   "execution_count": null,
   "metadata": {},
   "outputs": [],
   "source": [
    "env.close()"
   ]
  },
  {
   "cell_type": "markdown",
   "metadata": {},
   "source": [
    "### 4. It's Your Turn!\n",
    "\n",
    "Now it's your turn to train your own agent to solve the environment!  A few **important notes**:\n",
    "- When training the environment, set `train_mode=True`, so that the line for resetting the environment looks like the following:\n",
    "```python\n",
    "env_info = env.reset(train_mode=True)[brain_name]\n",
    "```\n",
    "- To structure your work, you're welcome to work directly in this Jupyter notebook, or you might like to start over with a new file!  You can see the list of files in the workspace by clicking on **_Jupyter_** in the top left corner of the notebook.\n",
    "- In this coding environment, you will not be able to watch the agents while they are training.  However, **_after training the agents_**, you can download the saved model weights to watch the agents on your own machine! "
   ]
  },
  {
   "cell_type": "code",
   "execution_count": 1,
   "metadata": {},
   "outputs": [],
   "source": [
    "!pip -q install ./python"
   ]
  },
  {
   "cell_type": "code",
   "execution_count": 2,
   "metadata": {},
   "outputs": [],
   "source": [
    "from ddpg_multi import Agent\n",
    "from ddpg_multi import ReplayBuffer\n",
    "import random\n",
    "import torch\n",
    "import numpy as np\n",
    "from collections import deque\n",
    "import matplotlib.pyplot as plt\n",
    "from unityagents import UnityEnvironment\n",
    "\n",
    "%matplotlib inline\n",
    "#%load_ext autoreload\n",
    "%reload_ext autoreload"
   ]
  },
  {
   "cell_type": "code",
   "execution_count": 3,
   "metadata": {},
   "outputs": [
    {
     "name": "stderr",
     "output_type": "stream",
     "text": [
      "INFO:unityagents:\n",
      "'Academy' started successfully!\n",
      "Unity Academy name: Academy\n",
      "        Number of Brains: 1\n",
      "        Number of External Brains : 1\n",
      "        Lesson number : 0\n",
      "        Reset Parameters :\n",
      "\t\t\n",
      "Unity brain name: TennisBrain\n",
      "        Number of Visual Observations (per agent): 0\n",
      "        Vector Observation space type: continuous\n",
      "        Vector Observation space size (per agent): 8\n",
      "        Number of stacked Vector Observation: 3\n",
      "        Vector Action space type: continuous\n",
      "        Vector Action space size (per agent): 2\n",
      "        Vector Action descriptions: , \n"
     ]
    }
   ],
   "source": [
    "env = UnityEnvironment(file_name=\"/data/Tennis_Linux_NoVis/Tennis\")"
   ]
  },
  {
   "cell_type": "code",
   "execution_count": 5,
   "metadata": {},
   "outputs": [
    {
     "name": "stdout",
     "output_type": "stream",
     "text": [
      "Number of agents: 2\n",
      "Size of each action: 2\n",
      "There are 2 agents. Each observes a state with length: 24\n",
      "The state for the first agent looks like: [ 0.          0.          0.          0.          0.          0.          0.\n",
      "  0.          0.          0.          0.          0.          0.          0.\n",
      "  0.          0.         -7.38993645 -1.5        -0.          0.\n",
      "  6.83172083  5.99607611 -0.          0.        ]\n"
     ]
    }
   ],
   "source": [
    "# get the default brain\n",
    "brain_name = env.brain_names[0]\n",
    "brain = env.brains[brain_name]\n",
    "# reset the environment\n",
    "env_info = env.reset(train_mode=True)[brain_name]\n",
    "\n",
    "# number of agents \n",
    "num_agents = len(env_info.agents)\n",
    "print('Number of agents:', num_agents)\n",
    "\n",
    "# size of each action\n",
    "action_size = brain.vector_action_space_size\n",
    "print('Size of each action:', action_size)\n",
    "\n",
    "# examine the state space \n",
    "states = env_info.vector_observations\n",
    "state_size = states.shape[1]\n",
    "print('There are {} agents. Each observes a state with length: {}'.format(states.shape[0], state_size))\n",
    "print('The state for the first agent looks like:', states[0])\n",
    "\n",
    "random_seed = int(np.random.rand() * 100)\n",
    "\n",
    "BUFFER_SIZE = int(1e6)  # replay buffer size\n",
    "BATCH_SIZE = 256        # minibatch size\n",
    "\n",
    "memory = ReplayBuffer(action_size, BUFFER_SIZE, BATCH_SIZE, random_seed)\n",
    "\n",
    "agent = []\n",
    "for i in range(num_agents):\n",
    "    agent.append(Agent(state_size=state_size, action_size=action_size, random_seed=random_seed, memory=memory))"
   ]
  },
  {
   "cell_type": "code",
   "execution_count": 6,
   "metadata": {},
   "outputs": [
    {
     "name": "stdout",
     "output_type": "stream",
     "text": [
      "Episode 100\tAverage Score Last 100 Episodes: 0.00690\tMax Score (All Agents) Last Episode: 0.00\n",
      "Episode 200\tAverage Score Last 100 Episodes: 0.04170\tMax Score (All Agents) Last Episode: 0.00\n",
      "Episode 300\tAverage Score Last 100 Episodes: 0.06180\tMax Score (All Agents) Last Episode: 0.00\n",
      "Episode 400\tAverage Score Last 100 Episodes: 0.05610\tMax Score (All Agents) Last Episode: 0.10\n",
      "Episode 500\tAverage Score Last 100 Episodes: 0.06810\tMax Score (All Agents) Last Episode: 0.10\n",
      "Episode 600\tAverage Score Last 100 Episodes: 0.05830\tMax Score (All Agents) Last Episode: 0.10\n",
      "Episode 700\tAverage Score Last 100 Episodes: 0.05690\tMax Score (All Agents) Last Episode: 0.00\n",
      "Episode 800\tAverage Score Last 100 Episodes: 0.04890\tMax Score (All Agents) Last Episode: 0.10\n",
      "Episode 900\tAverage Score Last 100 Episodes: 0.04890\tMax Score (All Agents) Last Episode: 0.10\n",
      "Episode 1000\tAverage Score Last 100 Episodes: 0.05590\tMax Score (All Agents) Last Episode: 0.10\n",
      "Episode 1100\tAverage Score Last 100 Episodes: 0.06150\tMax Score (All Agents) Last Episode: 0.00\n",
      "Episode 1200\tAverage Score Last 100 Episodes: 0.07850\tMax Score (All Agents) Last Episode: 0.00\n",
      "Episode 1300\tAverage Score Last 100 Episodes: 0.07490\tMax Score (All Agents) Last Episode: 0.00\n",
      "Episode 1400\tAverage Score Last 100 Episodes: 0.08250\tMax Score (All Agents) Last Episode: 0.09\n",
      "Episode 1500\tAverage Score Last 100 Episodes: 0.06740\tMax Score (All Agents) Last Episode: 0.10\n",
      "Episode 1600\tAverage Score Last 100 Episodes: 0.09360\tMax Score (All Agents) Last Episode: 0.10\n",
      "Episode 1700\tAverage Score Last 100 Episodes: 0.08250\tMax Score (All Agents) Last Episode: 0.00\n",
      "Episode 1800\tAverage Score Last 100 Episodes: 0.07840\tMax Score (All Agents) Last Episode: 0.10\n",
      "Episode 1900\tAverage Score Last 100 Episodes: 0.08230\tMax Score (All Agents) Last Episode: 0.09\n",
      "Episode 2000\tAverage Score Last 100 Episodes: 0.07270\tMax Score (All Agents) Last Episode: 0.10\n",
      "Episode 2100\tAverage Score Last 100 Episodes: 0.08280\tMax Score (All Agents) Last Episode: 0.10\n",
      "Episode 2200\tAverage Score Last 100 Episodes: 0.09480\tMax Score (All Agents) Last Episode: 0.00\n",
      "Episode 2300\tAverage Score Last 100 Episodes: 0.10630\tMax Score (All Agents) Last Episode: 0.30\n",
      "Episode 2400\tAverage Score Last 100 Episodes: 0.09740\tMax Score (All Agents) Last Episode: 0.10\n",
      "Episode 2500\tAverage Score Last 100 Episodes: 0.11350\tMax Score (All Agents) Last Episode: 0.30\n",
      "Episode 2600\tAverage Score Last 100 Episodes: 0.09980\tMax Score (All Agents) Last Episode: 0.20\n",
      "Episode 2700\tAverage Score Last 100 Episodes: 0.13460\tMax Score (All Agents) Last Episode: 0.10\n",
      "Episode 2800\tAverage Score Last 100 Episodes: 0.13890\tMax Score (All Agents) Last Episode: 0.10\n",
      "Episode 2900\tAverage Score Last 100 Episodes: 0.15490\tMax Score (All Agents) Last Episode: 0.10\n",
      "Episode 3000\tAverage Score Last 100 Episodes: 0.25580\tMax Score (All Agents) Last Episode: 1.10\n",
      "Episode 3100\tAverage Score Last 100 Episodes: 0.40340\tMax Score (All Agents) Last Episode: 0.10\n",
      "Episode 3112\tAverage Score Last 100 Episodes: 0.50640\tMax Score (All Agents) Last Episode: 2.60\n",
      "Environment solved in 3012 episodes!\tAverage Score: 0.50640\n"
     ]
    }
   ],
   "source": [
    "def ddpg(n_episodes=5000, max_t=1000, num_agents=num_agents):\n",
    "    scores_deque = deque(maxlen=100)\n",
    "    scores_list = []\n",
    "    for i_episode in range(1, n_episodes+1):\n",
    "        env_info = env.reset(train_mode=True)[brain_name]\n",
    "        states = env_info.vector_observations\n",
    "        scores = np.zeros(num_agents)\n",
    "        while True:\n",
    "            actions = []\n",
    "            for i_agent in range(num_agents):\n",
    "                agent[i_agent].reset()\n",
    "                actions.append(agent[i_agent].act(states[i_agent]))\n",
    "            env_info = env.step(actions)[brain_name]           # send all actions to the environment\n",
    "            next_states = env_info.vector_observations         # get next state for each agent\n",
    "            rewards = env_info.rewards                         # get reward for each agent\n",
    "            dones = env_info.local_done                        # check done\n",
    "            \n",
    "            for i_agent in range(num_agents):\n",
    "                agent[i_agent].step(states[i_agent], actions[i_agent], rewards[i_agent], next_states[i_agent],dones[i_agent])\n",
    "            \n",
    "            for i_agent in range(num_agents):\n",
    "                agent[i_agent].update_t_step()\n",
    "            \n",
    "            for i_agent in range(num_agents):\n",
    "                agent[i_agent].step_learn()\n",
    "                \n",
    "            states = next_states\n",
    "            scores += rewards\n",
    "            if np.any(dones):\n",
    "                break \n",
    "                \n",
    "        scores_deque.append(np.amax(scores))\n",
    "        scores_list.append(np.amax(scores))\n",
    "        \n",
    "        print('\\rEpisode {}\\tAverage Score Last 100 Episodes: {:.5f}\\tMax Score (All Agents) Last Episode: {:.2f}'.format(i_episode, np.mean(scores_deque), np.amax(scores)), end=\"\")\n",
    "        \n",
    "        if i_episode % 100 == 0:\n",
    "            print('\\rEpisode {}\\tAverage Score Last 100 Episodes: {:.5f}'.format(i_episode, np.mean(scores_deque)))\n",
    "            for i in range(num_agents):\n",
    "                torch.save(agent[i].actor_local.state_dict(), 'tennis-ddpg-actor-agent%d.pth' %i)\n",
    "                torch.save(agent[i].critic_local.state_dict(), 'tennis-dppg-critic-agent%d.pth' %i)\n",
    "\n",
    "        if np.mean(scores_deque) >= 0.5:\n",
    "            print('\\nEnvironment solved in {:d} episodes!\\tAverage Score: {:.5f}'.format(i_episode-100, np.mean(scores_deque)))\n",
    "            for i in range(num_agents):\n",
    "                torch.save(agent[i].actor_local.state_dict(), 'tennis-solved-ddpg-actor-solved-agent%d.pth' %i )\n",
    "                torch.save(agent[i].critic_local.state_dict(), 'tennis-solved-ddpg-critic-solved-agent%d.pth' %i)\n",
    "            break\n",
    "\n",
    "        if i_episode == n_episodes: \n",
    "            print('\\nMax episodes reached!\\tFinal Average Score: {:.5f}'.format(i_episode, np.mean(scores_deque)))\n",
    "            for i in range(num_agents):\n",
    "                torch.save(agent[i].actor_local.state_dict(), 'tennis-max-ddpg-actor-agent%d.pth' %i)\n",
    "                torch.save(agent[i].critic_local.state_dict(), 'tennis-max-ddpg-critic-agent%d.pth' %i)\n",
    "    \n",
    "    return scores_list\n",
    "\n",
    "scores = ddpg()"
   ]
  },
  {
   "cell_type": "code",
   "execution_count": 7,
   "metadata": {},
   "outputs": [
    {
     "data": {
      "image/png": "[encoded data removed]",
      "text/plain": [
       "<matplotlib.figure.Figure at 0x7fa073d43f60>"
      ]
     },
     "metadata": {
      "needs_background": "light"
     },
     "output_type": "display_data"
    }
   ],
   "source": [
    "fig = plt.figure()\n",
    "ax = fig.add_subplot(111)\n",
    "plt.plot(np.arange(1, len(scores)+1), scores)\n",
    "plt.ylabel('Score')\n",
    "plt.xlabel('Episode #')\n",
    "plt.show()"
   ]
  },
  {
   "cell_type": "code",
   "execution_count": 8,
   "metadata": {},
   "outputs": [],
   "source": [
    "env.close()"
   ]
  },
  {
   "cell_type": "code",
   "execution_count": null,
   "metadata": {},
   "outputs": [],
   "source": []
  }
 ],
 "metadata": {
  "kernelspec": {
   "display_name": "Python 3",
   "language": "python",
   "name": "python3"
  },
  "language_info": {
   "codemirror_mode": {
    "name": "ipython",
    "version": 3
   },
   "file_extension": ".py",
   "mimetype": "text/x-python",
   "name": "python",
   "nbconvert_exporter": "python",
   "pygments_lexer": "ipython3",
   "version": "3.6.3"
  }
 },
 "nbformat": 4,
 "nbformat_minor": 2
}
